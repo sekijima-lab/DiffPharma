{
  "cells": [
    {
      "cell_type": "markdown",
      "metadata": {},
      "source": [
        "<a target=\"_blank\" href=\"https://colab.research.google.com/github/sekijima-lab/DiffPharma/blob/main/colab/DiffPharma_generate.ipynb\">\n",
        "  <img src=\"https://colab.research.google.com/assets/colab-badge.svg\" alt=\"Open In Colab\"/>\n",
        "</a>"
      ]
    },
    {
      "cell_type": "markdown",
      "metadata": {},
      "source": [
        "## Change runtime type to T4 GPU"
      ]
    },
    {
      "cell_type": "code",
      "execution_count": null,
      "metadata": {},
      "outputs": [],
      "source": [
        "#@title you need to check the numpy version = 1.23.5. Don't restart session\n",
        "!pip uninstall -y numpy\n",
        "!pip install numpy==1.23.5\n",
        "\n",
        "#import numpy\n",
        "#print(\"NumPy version:\", numpy.__version__)"
      ]
    },
    {
      "cell_type": "code",
      "execution_count": 2,
      "metadata": {
        "colab": {
          "base_uri": "https://localhost:8080/"
        },
        "id": "qyytLz-Km9sS",
        "outputId": "58ae5821-f74f-4ef9-8020-4aabd4d04562"
      },
      "outputs": [
        {
          "name": "stdout",
          "output_type": "stream",
          "text": [
            "⏬ Downloading https://github.com/jaimergp/miniforge/releases/download/24.11.2-1_colab/Miniforge3-colab-24.11.2-1_colab-Linux-x86_64.sh...\n",
            "📦 Installing...\n",
            "📌 Adjusting configuration...\n",
            "🩹 Patching environment...\n",
            "⏲ Done in 0:00:09\n",
            "🔁 Restarting kernel...\n"
          ]
        }
      ],
      "source": [
        "!pip install -q condacolab\n",
        "import condacolab\n",
        "condacolab.install()"
      ]
    },
    {
      "cell_type": "code",
      "execution_count": null,
      "metadata": {
        "id": "lIztL2_9m-9y"
      },
      "outputs": [],
      "source": [
        "#@title Install module list\n",
        "\n",
        "errors ={}\n",
        "commands = [\n",
        "    \"conda install openbabel -c conda-forge\",\n",
        "    \"conda install conda-forge/label/cf202003::oddt\",\n",
        "    \"pip install scipy==1.9.3 scikit-learn==1.1.3 --no-cache-dir --force-reinstall\",\n",
        "    \"pip install torch==2.0.1 --extra-index-url https://download.pytorch.org/whl/cu118\",\n",
        "    \"pip install torch torchvision==0.15.2 torchaudio==2.0.2 --index-url https://download.pytorch.org/whl/cu118\",\n",
        "    \"pip install pytorch-lightning==1.8.4\",\n",
        "    \"pip install rdkit==2022.9.2\",\n",
        "    \"pip install biopython==1.79\",\n",
        "    \"pip install imageio==2.21.2\",\n",
        "    \"pip install pyg-lib torch-scatter -f https://data.pyg.org/whl/torch-2.0.1+cu118.html\",\n",
        "    \"pip install networkx==2.8.6\",\n",
        "    \"pip install py3Dmol\",\n",
        "    \"pip install wandb==0.13.1\",\n",
        "    \"pip install seaborn\",\n",
        "]"
      ]
    },
    {
      "cell_type": "code",
      "execution_count": null,
      "metadata": {
        "id": "sDfoyYmQnMEy"
      },
      "outputs": [],
      "source": [
        "#@title Install module (about 5 minutes)\n",
        "import os\n",
        "\n",
        "if not os.path.isfile(\"/content/READY\"):\n",
        "  for cmd in commands:\n",
        "    # os.system(cmd)\n",
        "    with os.popen(cmd) as f:\n",
        "      out = f.read()\n",
        "      status = f.close()\n",
        "\n",
        "    if status is not None:\n",
        "      errors[cmd] = out\n",
        "      print(f\"\\n\\nAn error occurred while running '{cmd}'\\n\")\n",
        "      print(\"Status:\\t\", status)\n",
        "      print(\"Message:\\t\", out)"
      ]
    },
    {
      "cell_type": "code",
      "execution_count": 4,
      "metadata": {
        "colab": {
          "base_uri": "https://localhost:8080/"
        },
        "id": "xWG7l3TwoaKA",
        "outputId": "524da7e6-9318-4947-a31c-ac7e4dca4253"
      },
      "outputs": [
        {
          "name": "stdout",
          "output_type": "stream",
          "text": [
            "env: MPLBACKEND=Agg\n"
          ]
        }
      ],
      "source": [
        "%env MPLBACKEND=Agg"
      ]
    },
    {
      "cell_type": "code",
      "execution_count": null,
      "metadata": {
        "colab": {
          "base_uri": "https://localhost:8080/"
        },
        "id": "wWo91Mrvoe83",
        "outputId": "ee2ea0ff-d3f4-4e58-ac3b-d756945db257"
      },
      "outputs": [
        {
          "name": "stdout",
          "output_type": "stream",
          "text": [
            "Cloning into 'DiffPharma01'...\n",
            "remote: Enumerating objects: 45, done.\u001b[K\n",
            "remote: Counting objects: 100% (45/45), done.\u001b[K\n",
            "remote: Compressing objects: 100% (36/36), done.\u001b[K\n",
            "remote: Total 45 (delta 6), reused 42 (delta 6), pack-reused 0 (from 0)\u001b[K\n",
            "Receiving objects: 100% (45/45), 3.75 MiB | 43.68 MiB/s, done.\n",
            "Resolving deltas: 100% (6/6), done.\n"
          ]
        }
      ],
      "source": [
        "#@title download git\n",
        "!git clone https://github.com/sekijima-lab/DiffPharma.git"
      ]
    },
    {
      "cell_type": "code",
      "execution_count": null,
      "metadata": {},
      "outputs": [],
      "source": [
        "#@title download pretrained model\n",
        "!wget -O DiffPharma_best.ckpt \"https://zenodo.org/record/15428723/files/DiffPharma_best.ckpt?download=1\"\n",
        "!cp  DiffPharma_best.ckpt DiffPharma/"
      ]
    },
    {
      "cell_type": "code",
      "execution_count": null,
      "metadata": {
        "colab": {
          "base_uri": "https://localhost:8080/"
        },
        "id": "IOeyOPp0o9qs",
        "outputId": "0a9cbd3e-bc48-4e82-ff24-6941c4154fe5"
      },
      "outputs": [
        {
          "name": "stdout",
          "output_type": "stream",
          "text": [
            "/content/DiffPharma01\n"
          ]
        }
      ],
      "source": [
        "#@title Change Directory\n",
        "import os\n",
        "os.chdir(\"DiffPharma\")"
      ]
    },
    {
      "cell_type": "code",
      "execution_count": null,
      "metadata": {
        "colab": {
          "base_uri": "https://localhost:8080/"
        },
        "id": "hTb7_42yo-8J",
        "outputId": "70ec51a2-a2c4-4e0d-d2a9-b33f19b833b9"
      },
      "outputs": [
        {
          "name": "stdout",
          "output_type": "stream",
          "text": [
            "num_nodes_lig: tensor([13, 35, 12,  9, 15, 18], device='cuda:0')\n",
            "<class 'equivariant_diffusion.conditional_model.ConditionalDDPM'>\n",
            "/usr/local/lib/python3.11/site-packages/openbabel/__init__.py:14: UserWarning: \"import openbabel\" is deprecated, instead use \"from openbabel import openbabel\"\n",
            "  warnings.warn('\"import openbabel\" is deprecated, instead use \"from openbabel import openbabel\"')\n",
            "[13:04:40] Molecule does not have explicit Hs. Consider calling AddHs()\n",
            "[13:04:40] Molecule does not have explicit Hs. Consider calling AddHs()\n",
            "/content/DiffPharma01/analysis/molecule_builder.py:224: UserWarning: Maximum number of FF iterations reached. Returning molecule after 200 relaxation steps.\n",
            "  warnings.warn(f'Maximum number of FF iterations reached. '\n",
            "[13:04:40] Molecule does not have explicit Hs. Consider calling AddHs()\n",
            "[13:04:40] Molecule does not have explicit Hs. Consider calling AddHs()\n",
            "[13:04:40] Molecule does not have explicit Hs. Consider calling AddHs()\n",
            "[13:04:40] Molecule does not have explicit Hs. Consider calling AddHs()\n",
            "<class 'equivariant_diffusion.conditional_model.ConditionalDDPM'>\n",
            "[13:06:05] Molecule does not have explicit Hs. Consider calling AddHs()\n",
            "[13:06:05] Molecule does not have explicit Hs. Consider calling AddHs()\n",
            "[13:06:05] Molecule does not have explicit Hs. Consider calling AddHs()\n",
            "[13:06:05] Molecule does not have explicit Hs. Consider calling AddHs()\n",
            "[13:06:05] Molecule does not have explicit Hs. Consider calling AddHs()\n",
            "[13:06:05] Molecule does not have explicit Hs. Consider calling AddHs()\n"
          ]
        }
      ],
      "source": [
        "#@title Data construction of 10 molecules\n",
        "!python test_single.py --sdf example/14gs.sdf --pdb example/14gs.pdb --checkpoint DiffPharma_best.ckpt --outdir tmp_out --n_samples 10"
      ]
    },
    {
      "cell_type": "code",
      "execution_count": null,
      "metadata": {
        "id": "Q8O2zcLCp2W1"
      },
      "outputs": [],
      "source": [
        "from rdkit import Chem\n",
        "import py3Dmol"
      ]
    },
    {
      "cell_type": "code",
      "execution_count": 11,
      "metadata": {
        "id": "tHHFp-qhpBOa"
      },
      "outputs": [],
      "source": [
        "#@title Ooen PDB for Visualization\n",
        "with open(\"example/14gs.pdb\") as f:\n",
        "    system = \"\".join([x for x in f])"
      ]
    },
    {
      "cell_type": "code",
      "execution_count": null,
      "metadata": {},
      "outputs": [],
      "source": [
        "#@title Read Generated Molecules\n",
        "suppl = Chem.SDMolSupplier('tmp_out/processed/14gs_gen.sdf')\n",
        "out_sdf = [mol for mol in suppl if mol is not None]\n",
        "print(f\"number of molecules: {len(out_sdf)}\")"
      ]
    },
    {
      "cell_type": "code",
      "execution_count": null,
      "metadata": {
        "colab": {
          "base_uri": "https://localhost:8080/",
          "height": 317
        },
        "id": "okiy4Sp2p-IA",
        "outputId": "43f74f7c-2235-4e22-cb20-0df9a01a270b"
      },
      "outputs": [
        {
          "data": {
            "application/3dmoljs_load.v0": "<div id=\"3dmolviewer_17476600666395557\"  style=\"position: relative; width: 400px; height: 300px;\">\n        <p id=\"3dmolwarning_17476600666395557\" style=\"background-color:#ffcccc;color:black\">3Dmol.js failed to load for some reason.  Please check your browser console for error messages.<br></p>\n        </div>\n<script>\n\nvar loadScriptAsync = function(uri){\n  return new Promise((resolve, reject) => {\n    //this is to ignore the existence of requirejs amd\n    var savedexports, savedmodule;\n    if (typeof exports !== 'undefined') savedexports = exports;\n    else exports = {}\n    if (typeof module !== 'undefined') savedmodule = module;\n    else module = {}\n\n    var tag = document.createElement('script');\n    tag.src = uri;\n    tag.async = true;\n    tag.onload = () => {\n        exports = savedexports;\n        module = savedmodule;\n        resolve();\n    };\n  var firstScriptTag = document.getElementsByTagName('script')[0];\n  firstScriptTag.parentNode.insertBefore(tag, firstScriptTag);\n});\n};\n\nif(typeof $3Dmolpromise === 'undefined') {\n$3Dmolpromise = null;\n  $3Dmolpromise = loadScriptAsync('https://cdnjs.cloudflare.com/ajax/libs/3Dmol/2.4.2/3Dmol-min.js');\n}\n\nvar viewer_17476600666395557 = null;\nvar warn = document.getElementById(\"3dmolwarning_17476600666395557\");\nif(warn) {\n    warn.parentNode.removeChild(warn);\n}\n$3Dmolpromise.then(function() {\nviewer_17476600666395557 = $3Dmol.createViewer(document.getElementById(\"3dmolviewer_17476600666395557\"),{backgroundColor:\"white\"});\nviewer_17476600666395557.zoomTo();\n\tviewer_17476600666395557.addModel(\"\\n     RDKit          3D\\n\\n 13 13  0  0  0  0  0  0  0  0999 V2000\\n   23.5999    7.6495   26.6336 N   0  0  0  0  0  0  0  0  0  0  0  0\\n   22.9258    7.2698   25.3999 C   0  0  0  0  0  0  0  0  0  0  0  0\\n   23.0135    4.8889   25.4775 O   0  0  0  0  0  0  0  0  0  0  0  0\\n   22.9581    8.8806   30.1667 C   0  0  0  0  0  0  0  0  0  0  0  0\\n   21.6421    8.2337   27.7616 O   0  0  0  0  0  0  0  0  0  0  0  0\\n   20.9042    5.8102   25.7843 N   0  0  0  0  0  0  0  0  0  0  0  0\\n   22.8968    8.1053   27.7944 C   0  0  0  0  0  0  0  0  0  0  0  0\\n   23.6626    9.1877   31.3345 C   0  0  0  0  0  0  0  0  0  0  0  0\\n   25.0335    8.2908   29.0698 C   0  0  0  0  0  0  0  0  0  0  0  0\\n   23.6385    8.4299   29.0254 C   0  0  0  0  0  0  0  0  0  0  0  0\\n   25.0524    9.0463   31.3699 C   0  0  0  0  0  0  0  0  0  0  0  0\\n   25.7379    8.5979   30.2377 C   0  0  0  0  0  0  0  0  0  0  0  0\\n   22.3016    5.9243   25.5447 C   0  0  0  0  0  0  0  0  0  0  0  0\\n  1  7  1  0\\n  2  1  1  0\\n  3 13  2  0\\n  4  8  2  0\\n  5  7  2  0\\n  7 10  1  0\\n  8 11  1  0\\n  9 12  1  0\\n 10  9  2  0\\n 10  4  1  0\\n 12 11  2  0\\n 13  2  1  0\\n 13  6  1  0\\nM  END\\n\",\"sdf\");\n\tviewer_17476600666395557.setStyle({\"stick\": {}});\n\tviewer_17476600666395557.addModelsAsFrames(\"HEADER    POCKET\\nCOMPND    POCKET\\nATOM     89  N   GLY A  12      19.599  13.885  26.074  1.00 28.42         A N\\nATOM     90  CA  GLY A  12      19.923  12.538  25.636  1.00 29.35         A C\\nATOM     91  C   GLY A  12      18.867  11.830  24.812  1.00 30.20         A C\\nATOM     92  O   GLY A  12      18.422  12.339  23.780  1.00 31.70         A O\\nATOM     93  N   ARG A  13      18.418  10.680  25.303  1.00 28.22         A N\\nATOM     94  CA  ARG A  13      17.408   9.894  24.604  1.00 24.93         A C\\nATOM     95  C   ARG A  13      15.963  10.272  24.920  1.00 23.26         A C\\nATOM     96  O   ARG A  13      15.043   9.596  24.480  1.00 28.72         A O\\nATOM     97  CB  ARG A  13      17.609   8.414  24.884  1.00 25.26         A C\\nATOM     98  CG  ARG A  13      18.813   7.820  24.193  1.00 24.37         A C\\nATOM     99  CD  ARG A  13      18.960   6.368  24.559  1.00 26.76         A C\\nATOM    100  NE  ARG A  13      19.960   5.716  23.728  1.00 30.82         A N\\nATOM    101  CZ  ARG A  13      19.674   5.039  22.624  1.00 32.89         A C\\nATOM    102  NH1 ARG A  13      18.413   4.914  22.233  1.00 33.80         A N\\nATOM    103  NH2 ARG A  13      20.646   4.475  21.920  1.00 35.01         A N\\nATOM    285  N   GLN A  51      19.630   1.068  32.428  1.00 89.27         A N\\nATOM    286  CA  GLN A  51      19.777   2.328  31.697  1.00 88.94         A C\\nATOM    287  C   GLN A  51      18.444   2.961  31.315  1.00 86.18         A C\\nATOM    288  O   GLN A  51      17.680   2.403  30.514  1.00 87.44         A O\\nATOM    289  CB  GLN A  51      20.648   2.117  30.450  1.00 89.31         A C\\nATOM    290  CG  GLN A  51      22.026   2.757  30.541  1.00 90.02         A C\\nATOM    291  CD  GLN A  51      21.971   4.274  30.557  1.00 89.67         A C\\nATOM    292  OE1 GLN A  51      21.194   4.889  29.833  1.00 90.43         A O\\nATOM    293  NE2 GLN A  51      22.824   4.888  31.364  1.00 90.38         A N\\nATOM    294  N   LEU A  52      18.155   4.084  31.956  1.00 76.02         A N\\nATOM    295  CA  LEU A  52      16.931   4.851  31.739  1.00 62.78         A C\\nATOM    296  C   LEU A  52      16.836   5.283  30.269  1.00 56.19         A C\\nATOM    297  O   LEU A  52      17.762   5.027  29.484  1.00 57.85         A O\\nATOM    298  CB  LEU A  52      16.960   6.058  32.679  1.00 59.14         A C\\nATOM    299  CG  LEU A  52      17.228   5.653  34.131  1.00 56.69         A C\\nATOM    300  CD1 LEU A  52      17.352   6.881  35.005  1.00 54.34         A C\\nATOM    301  CD2 LEU A  52      16.116   4.735  34.627  1.00 59.33         A C\\nATOM    670  N   ARG A 100      21.967   7.245  15.649  1.00 33.72         A N\\nATOM    671  CA  ARG A 100      22.065   7.743  17.017  1.00 29.33         A C\\nATOM    672  C   ARG A 100      23.032   6.899  17.814  1.00 24.80         A C\\nATOM    673  O   ARG A 100      23.705   7.399  18.708  1.00 26.61         A O\\nATOM    674  CB  ARG A 100      20.698   7.732  17.692  1.00 28.34         A C\\nATOM    675  CG  ARG A 100      20.688   8.367  19.064  1.00 19.55         A C\\nATOM    676  CD  ARG A 100      19.311   8.257  19.672  1.00 18.89         A C\\nATOM    677  NE  ARG A 100      18.350   9.117  18.997  1.00 12.22         A N\\nATOM    678  CZ  ARG A 100      18.351  10.444  19.087  1.00 14.42         A C\\nATOM    679  NH1 ARG A 100      19.270  11.057  19.819  1.00 14.24         A N\\nATOM    680  NH2 ARG A 100      17.434  11.163  18.451  1.00  6.52         A N\\nATOM    681  N   CYS A 101      23.089   5.611  17.500  1.00 28.15         A N\\nATOM    682  CA  CYS A 101      24.003   4.719  18.184  1.00 29.87         A C\\nATOM    683  C   CYS A 101      25.438   5.104  17.854  1.00 32.66         A C\\nATOM    684  O   CYS A 101      26.304   5.072  18.724  1.00 41.90         A O\\nATOM    685  CB  CYS A 101      23.737   3.273  17.792  1.00 29.10         A C\\nATOM    686  SG  CYS A 101      23.142   2.287  19.158  1.00 47.56         A S\\nATOM    708  N   ILE A 104      26.226   8.403  19.779  1.00 36.87         A N\\nATOM    709  CA  ILE A 104      26.468   8.092  21.181  1.00 35.75         A C\\nATOM    710  C   ILE A 104      27.838   7.467  21.341  1.00 38.78         A C\\nATOM    711  O   ILE A 104      28.540   7.751  22.313  1.00 39.10         A O\\nATOM    712  CB  ILE A 104      25.402   7.135  21.731  1.00 30.79         A C\\nATOM    713  CG1 ILE A 104      24.094   7.894  21.921  1.00 19.79         A C\\nATOM    714  CG2 ILE A 104      25.868   6.494  23.030  1.00 25.57         A C\\nATOM    715  CD1 ILE A 104      22.948   7.001  22.268  1.00 27.68         A C\\nATOM    716  N   SER A 105      28.223   6.635  20.379  1.00 39.79         A N\\nATOM    717  CA  SER A 105      29.527   5.996  20.433  1.00 42.16         A C\\nATOM    718  C   SER A 105      30.626   7.039  20.264  1.00 42.90         A C\\nATOM    719  O   SER A 105      31.645   6.981  20.946  1.00 49.49         A O\\nATOM    720  CB  SER A 105      29.659   4.923  19.362  1.00 39.68         A C\\nATOM    721  OG  SER A 105      30.930   4.305  19.446  1.00 52.36         A O\\nATOM    730  N   ILE A 107      30.513  10.421  20.879  1.00 42.41         A N\\nATOM    731  CA  ILE A 107      30.484  11.219  22.100  1.00 40.68         A C\\nATOM    732  C   ILE A 107      31.183  10.586  23.301  1.00 42.55         A C\\nATOM    733  O   ILE A 107      32.167  11.123  23.802  1.00 46.97         A O\\nATOM    734  CB  ILE A 107      29.022  11.562  22.488  1.00 36.19         A C\\nATOM    735  CG1 ILE A 107      28.380  12.452  21.414  1.00 36.85         A C\\nATOM    736  CG2 ILE A 107      28.966  12.234  23.837  1.00 37.85         A C\\nATOM    737  CD1 ILE A 107      29.051  13.801  21.216  1.00 23.74         A C\\nATOM    738  N   TYR A 108      30.697   9.433  23.742  1.00 44.21         A N\\nATOM    739  CA  TYR A 108      31.272   8.770  24.904  1.00 46.02         A C\\nATOM    740  C   TYR A 108      32.548   7.958  24.680  1.00 50.08         A C\\nATOM    741  O   TYR A 108      33.265   7.672  25.636  1.00 55.37         A O\\nATOM    742  CB  TYR A 108      30.205   7.914  25.601  1.00 40.61         A C\\nATOM    743  CG  TYR A 108      28.997   8.716  26.044  1.00 42.63         A C\\nATOM    744  CD1 TYR A 108      29.015   9.447  27.230  1.00 42.13         A C\\nATOM    745  CD2 TYR A 108      27.845   8.771  25.259  1.00 44.02         A C\\nATOM    746  CE1 TYR A 108      27.919  10.221  27.620  1.00 42.77         A C\\nATOM    747  CE2 TYR A 108      26.746   9.538  25.638  1.00 40.64         A C\\nATOM    748  CZ  TYR A 108      26.788  10.260  26.820  1.00 42.31         A C\\nATOM    749  OH  TYR A 108      25.707  11.034  27.187  1.00 39.92         A O\\nATOM   1485  N   ASN A 204      24.542  15.956  26.129  1.00 43.88         A N\\nATOM   1486  CA  ASN A 204      25.081  14.687  26.615  1.00 43.24         A C\\nATOM   1487  C   ASN A 204      25.591  14.729  28.046  1.00 40.59         A C\\nATOM   1488  O   ASN A 204      25.892  15.794  28.583  1.00 43.79         A O\\nATOM   1489  CB  ASN A 204      26.186  14.199  25.685  1.00 43.68         A C\\nATOM   1490  CG  ASN A 204      25.652  13.735  24.356  1.00 41.79         A C\\nATOM   1491  OD1 ASN A 204      25.382  14.529  23.463  1.00 40.15         A O\\nATOM   1492  ND2 ASN A 204      25.463  12.435  24.228  1.00 42.72         A N\\nATOM     41  N   TYR A   7      14.680  10.292  34.149  1.00 26.49         A N\\nATOM     42  CA  TYR A   7      15.913  10.321  33.378  1.00 26.60         A C\\nATOM     43  C   TYR A   7      16.956  11.206  34.030  1.00 28.22         A C\\nATOM     44  O   TYR A   7      16.685  11.893  35.016  1.00 35.99         A O\\nATOM     45  CB  TYR A   7      15.626  10.860  31.977  1.00 25.16         A C\\nATOM     46  CG  TYR A   7      16.667  10.506  30.935  1.00 30.50         A C\\nATOM     47  CD1 TYR A   7      17.115   9.195  30.793  1.00 30.88         A C\\nATOM     48  CD2 TYR A   7      17.160  11.467  30.055  1.00 24.64         A C\\nATOM     49  CE1 TYR A   7      18.014   8.842  29.802  1.00 30.71         A C\\nATOM     50  CE2 TYR A   7      18.062  11.125  29.055  1.00 28.28         A C\\nATOM     51  CZ  TYR A   7      18.480   9.808  28.935  1.00 34.74         A C\\nATOM     52  OH  TYR A   7      19.339   9.433  27.927  1.00 42.56         A O\\nATOM     53  N   PHE A   8      18.158  11.178  33.470  1.00 27.57         A N\\nATOM     54  CA  PHE A   8      19.256  11.987  33.965  1.00 27.18         A C\\nATOM     55  C   PHE A   8      18.941  13.431  33.620  1.00 31.76         A C\\nATOM     56  O   PHE A   8      17.937  13.716  32.968  1.00 26.50         A O\\nATOM     57  CB  PHE A   8      20.553  11.546  33.294  1.00 31.73         A C\\nATOM     58  CG  PHE A   8      20.863  10.100  33.497  1.00 39.31         A C\\nATOM     59  CD1 PHE A   8      21.391   9.658  34.702  1.00 42.85         A C\\nATOM     60  CD2 PHE A   8      20.566   9.168  32.512  1.00 41.97         A C\\nATOM     61  CE1 PHE A   8      21.617   8.309  34.928  1.00 43.95         A C\\nATOM     62  CE2 PHE A   8      20.790   7.813  32.727  1.00 46.29         A C\\nATOM     63  CZ  PHE A   8      21.315   7.383  33.940  1.00 45.54         A C\\nATOM    302  N   PRO A  53      15.778   6.004  29.868  1.00 46.81         A N\\nATOM    303  CA  PRO A  53      14.613   6.484  30.625  1.00 42.09         A C\\nATOM    304  C   PRO A  53      13.626   5.428  31.077  1.00 39.53         A C\\nATOM    305  O   PRO A  53      13.690   4.276  30.663  1.00 48.21         A O\\nATOM    306  CB  PRO A  53      13.965   7.469  29.654  1.00 39.20         A C\\nATOM    307  CG  PRO A  53      14.252   6.876  28.338  1.00 31.54         A C\\nATOM    308  CD  PRO A  53      15.699   6.453  28.469  1.00 37.37         A C\\nATOM   1493  N   GLY A 205      25.737  13.549  28.637  1.00 40.83         A N\\nATOM   1494  CA  GLY A 205      26.208  13.445  30.005  1.00 45.86         A C\\nATOM   1495  C   GLY A 205      27.655  13.852  30.184  1.00 50.56         A C\\nATOM   1496  O   GLY A 205      27.967  14.677  31.031  1.00 56.31         A O\\nATOM    104  N   CYS A  14      15.759  11.332  25.689  1.00 20.91         A N\\nATOM    105  CA  CYS A  14      14.413  11.766  26.036  1.00 20.27         A C\\nATOM    106  C   CYS A  14      13.973  12.975  25.242  1.00 18.69         A C\\nATOM    107  O   CYS A  14      12.780  13.284  25.172  1.00 23.15         A O\\nATOM    108  CB  CYS A  14      14.319  12.078  27.529  1.00 24.17         A C\\nATOM    109  SG  CYS A  14      14.433  10.626  28.579  1.00 38.98         A S\\nATOM    393  N   GLN A  64      13.361   1.740  27.815  1.00 26.12         A N\\nATOM    394  CA  GLN A  64      13.788   1.817  26.415  1.00 24.29         A C\\nATOM    395  C   GLN A  64      13.091   2.998  25.719  1.00 24.38         A C\\nATOM    396  O   GLN A  64      11.865   2.992  25.538  1.00 20.00         A O\\nATOM    397  CB  GLN A  64      13.436   0.525  25.642  1.00 35.85         A C\\nATOM    398  CG  GLN A  64      13.776  -0.808  26.308  1.00 32.59         A C\\nATOM    399  CD  GLN A  64      15.240  -1.150  26.215  1.00 42.99         A C\\nATOM    400  OE1 GLN A  64      16.021  -0.429  25.596  1.00 50.59         A O\\nATOM    401  NE2 GLN A  64      15.620  -2.264  26.817  1.00 50.81         A N\\nATOM    402  N   SER A  65      13.878   3.971  25.259  1.00 20.22         A N\\nATOM    403  CA  SER A  65      13.333   5.149  24.587  1.00 15.68         A C\\nATOM    404  C   SER A  65      12.425   4.848  23.402  1.00 15.45         A C\\nATOM    405  O   SER A  65      11.351   5.439  23.272  1.00 19.78         A O\\nATOM    406  CB  SER A  65      14.456   6.093  24.158  1.00 14.31         A C\\nATOM    407  OG  SER A  65      15.452   5.417  23.407  1.00 24.33         A O\\nATOM    645  N   GLU A  97      17.663   5.581  14.764  1.00 17.38         A N\\nATOM    646  CA  GLU A  97      18.232   4.895  15.901  1.00 24.39         A C\\nATOM    647  C   GLU A  97      19.628   4.366  15.620  1.00 27.93         A C\\nATOM    648  O   GLU A  97      20.500   4.428  16.491  1.00 33.46         A O\\nATOM    649  CB  GLU A  97      17.311   3.759  16.331  1.00 35.69         A C\\nATOM    650  CG  GLU A  97      17.704   3.144  17.649  1.00 49.81         A C\\nATOM    651  CD  GLU A  97      17.989   4.191  18.713  1.00 56.48         A C\\nATOM    652  OE1 GLU A  97      17.233   5.200  18.804  1.00 48.82         A O\\nATOM    653  OE2 GLU A  97      18.990   4.002  19.440  1.00 55.36         A O\\nATOM     71  N   VAL A  10      19.799  15.385  31.402  1.00 38.42         A N\\nATOM     72  CA  VAL A  10      20.248  15.667  30.033  1.00 30.45         A C\\nATOM     73  C   VAL A  10      19.137  15.330  29.040  1.00 28.99         A C\\nATOM     74  O   VAL A  10      18.278  14.496  29.317  1.00 32.29         A O\\nATOM     75  CB  VAL A  10      21.489  14.816  29.628  1.00 25.93         A C\\nATOM     76  CG1 VAL A  10      22.629  15.027  30.601  1.00 24.74         A C\\nATOM     77  CG2 VAL A  10      21.132  13.347  29.545  1.00 21.12         A C\\nATOM   1497  N   ASN A 206      28.536  13.312  29.350  1.00 52.37         A N\\nATOM   1498  CA  ASN A 206      29.964  13.615  29.432  1.00 48.56         A C\\nATOM   1499  C   ASN A 206      30.291  15.072  29.091  1.00 46.18         A C\\nATOM   1500  O   ASN A 206      31.459  15.439  28.976  1.00 46.57         A O\\nATOM   1501  CB  ASN A 206      30.758  12.690  28.506  1.00 50.71         A C\\nATOM   1502  CG  ASN A 206      30.561  13.028  27.047  1.00 53.56         A C\\nATOM   1503  OD1 ASN A 206      29.646  13.772  26.691  1.00 58.49         A O\\nATOM   1504  ND2 ASN A 206      31.404  12.472  26.190  1.00 61.13         A N\\nATOM     64  N   PRO A   9      19.756  14.371  34.112  1.00 41.45         A N\\nATOM     65  CA  PRO A   9      19.481  15.775  33.793  1.00 41.45         A C\\nATOM     66  C   PRO A   9      20.021  16.211  32.426  1.00 39.43         A C\\nATOM     67  O   PRO A   9      20.642  17.269  32.314  1.00 36.63         A O\\nATOM     68  CB  PRO A   9      20.170  16.515  34.941  1.00 44.52         A C\\nATOM     69  CG  PRO A   9      21.349  15.629  35.243  1.00 40.75         A C\\nATOM     70  CD  PRO A   9      20.740  14.256  35.210  1.00 38.70         A C\\nATOM   1477  N   ILE A 203      23.223  18.454  26.159  1.00 42.02         A N\\nATOM   1478  CA  ILE A 203      22.848  17.431  25.194  1.00 39.57         A C\\nATOM   1479  C   ILE A 203      23.292  16.058  25.684  1.00 40.30         A C\\nATOM   1480  O   ILE A 203      22.492  15.123  25.726  1.00 42.45         A O\\nATOM   1481  CB  ILE A 203      23.432  17.729  23.787  1.00 38.26         A C\\nATOM   1482  CG1 ILE A 203      22.699  18.910  23.150  1.00 33.92         A C\\nATOM   1483  CG2 ILE A 203      23.313  16.512  22.886  1.00 39.24         A C\\nATOM   1484  CD1 ILE A 203      23.198  19.270  21.764  1.00 35.45         A C\\nATOM     78  N   ARG A  11      19.169  15.968  27.878  1.00 31.05         A N\\nATOM     79  CA  ARG A  11      18.181  15.698  26.839  1.00 29.39         A C\\nATOM     80  C   ARG A  11      18.353  14.252  26.376  1.00 30.86         A C\\nATOM     81  O   ARG A  11      17.372  13.516  26.245  1.00 30.42         A O\\nATOM     82  CB  ARG A  11      18.413  16.607  25.645  1.00 26.80         A C\\nATOM     83  CG  ARG A  11      18.468  18.060  25.963  1.00 28.87         A C\\nATOM     84  CD  ARG A  11      18.565  18.832  24.667  1.00 37.79         A C\\nATOM     85  NE  ARG A  11      18.797  20.247  24.896  1.00 42.04         A N\\nATOM     86  CZ  ARG A  11      19.480  21.026  24.069  1.00 39.36         A C\\nATOM     87  NH1 ARG A  11      19.996  20.524  22.958  1.00 38.62         A N\\nATOM     88  NH2 ARG A  11      19.672  22.298  24.376  1.00 40.45         A N\\nATOM    252  N   VAL A  33      17.367  11.900  37.777  1.00 45.22         A N\\nATOM    253  CA  VAL A  33      18.156  10.839  38.359  1.00 52.26         A C\\nATOM    254  C   VAL A  33      19.596  11.304  38.312  1.00 61.38         A C\\nATOM    255  O   VAL A  33      20.305  11.069  37.337  1.00 65.55         A O\\nATOM    256  CB  VAL A  33      18.026   9.535  37.572  1.00 50.76         A C\\nATOM    257  CG1 VAL A  33      18.930   8.463  38.164  1.00 50.01         A C\\nATOM    258  CG2 VAL A  33      16.597   9.078  37.582  1.00 53.81         A C\\nATOM   1470  N   PRO A 202      22.046  19.917  29.218  1.00 31.94         A N\\nATOM   1471  CA  PRO A 202      23.139  19.592  28.301  1.00 33.67         A C\\nATOM   1472  C   PRO A 202      22.675  18.487  27.366  1.00 38.51         A C\\nATOM   1473  O   PRO A 202      21.797  17.699  27.720  1.00 44.65         A O\\nATOM   1474  CB  PRO A 202      24.231  19.096  29.243  1.00 34.12         A C\\nATOM   1475  CG  PRO A 202      23.459  18.464  30.340  1.00 35.10         A C\\nATOM   1476  CD  PRO A 202      22.346  19.461  30.582  1.00 37.18         A C\\nATOM    259  N   THR A  34      20.002  12.043  39.333  1.00 74.51         A N\\nATOM    260  CA  THR A  34      21.367  12.534  39.413  1.00 86.19         A C\\nATOM    261  C   THR A  34      22.266  11.313  39.593  1.00 93.34         A C\\nATOM    262  O   THR A  34      21.826  10.306  40.158  1.00 97.40         A O\\nATOM    263  CB  THR A  34      21.539  13.478  40.619  1.00 88.50         A C\\nATOM    264  OG1 THR A  34      21.172  12.789  41.822  1.00 88.87         A O\\nATOM    265  CG2 THR A  34      20.671  14.726  40.453  1.00 87.92         A C\\nATOM    266  N   VAL A  35      23.522  11.409  39.160  1.00 99.89         A N\\nATOM    267  CA  VAL A  35      24.470  10.296  39.270  1.00104.10         A C\\nATOM    268  C   VAL A  35      24.467   9.654  40.669  1.00106.99         A C\\nATOM    269  O   VAL A  35      24.404   8.428  40.791  1.00111.09         A O\\nATOM    270  CB  VAL A  35      25.909  10.731  38.835  1.00104.17         A C\\nATOM    271  CG1 VAL A  35      26.453  11.823  39.751  1.00103.14         A C\\nATOM    272  CG2 VAL A  35      26.844   9.528  38.792  1.00102.99         A C\\nATOM   1505  N   GLY A 207      29.264  15.882  28.858  1.00 45.49         A N\\nATOM   1506  CA  GLY A 207      29.484  17.282  28.549  1.00 49.78         A C\\nATOM   1507  C   GLY A 207      30.034  17.591  27.168  1.00 55.96         A C\\nATOM   1508  O   GLY A 207      30.449  18.718  26.918  1.00 57.56         A O\\nATOM    750  N   THR A 109      32.856   7.614  23.433  1.00 55.80         A N\\nATOM    751  CA  THR A 109      34.049   6.823  23.142  1.00 57.20         A C\\nATOM    752  C   THR A 109      35.153   7.592  22.401  1.00 61.89         A C\\nATOM    753  O   THR A 109      35.952   8.292  23.023  1.00 64.45         A O\\nATOM    754  CB  THR A 109      33.672   5.522  22.373  1.00 59.96         A C\\nATOM    755  OG1 THR A 109      32.736   4.763  23.149  1.00 60.98         A O\\nATOM    756  CG2 THR A 109      34.896   4.662  22.100  1.00 63.92         A C\\nATOM   2181  N   ASP B  98      19.132  -5.654  22.243  1.00 23.63         A N\\nATOM   2182  CA  ASP B  98      20.288  -5.098  22.938  1.00 24.05         A C\\nATOM   2183  C   ASP B  98      21.341  -6.170  23.160  1.00 26.82         A C\\nATOM   2184  O   ASP B  98      22.525  -5.952  22.903  1.00 33.22         A O\\nATOM   2185  CB  ASP B  98      19.872  -4.522  24.292  1.00 32.22         A C\\nATOM   2186  CG  ASP B  98      19.831  -3.015  24.298  1.00 41.91         A C\\nATOM   2187  OD1 ASP B  98      19.125  -2.427  23.453  1.00 50.38         A O\\nATOM   2188  OD2 ASP B  98      20.511  -2.419  25.153  1.00 49.06         A O\\nATOM    696  N   TYR A 103      26.463   8.142  16.956  1.00 36.11         A N\\nATOM    697  CA  TYR A 103      26.663   9.425  17.623  1.00 37.62         A C\\nATOM    698  C   TYR A 103      27.043   9.187  19.080  1.00 37.37         A C\\nATOM    699  O   TYR A 103      28.052   9.712  19.556  1.00 35.64         A O\\nATOM    700  CB  TYR A 103      25.380  10.269  17.549  1.00 42.12         A C\\nATOM    701  CG  TYR A 103      25.418  11.585  18.313  1.00 42.51         A C\\nATOM    702  CD1 TYR A 103      25.998  12.723  17.754  1.00 45.50         A C\\nATOM    703  CD2 TYR A 103      24.841  11.699  19.580  1.00 35.78         A C\\nATOM    704  CE1 TYR A 103      25.999  13.938  18.436  1.00 46.05         A C\\nATOM    705  CE2 TYR A 103      24.838  12.913  20.266  1.00 36.91         A C\\nATOM    706  CZ  TYR A 103      25.415  14.025  19.690  1.00 40.13         A C\\nATOM    707  OH  TYR A 103      25.392  15.222  20.358  1.00 44.22         A O\\nEND\\n\");\n\tviewer_17476600666395557.addSurface(1,{\"opacity\": 0.9, \"color\": \"white\"});\n\tviewer_17476600666395557.zoomTo();\nviewer_17476600666395557.render();\n});\n</script>",
            "text/html": [
              "<div id=\"3dmolviewer_17476600666395557\"  style=\"position: relative; width: 400px; height: 300px;\">\n",
              "        <p id=\"3dmolwarning_17476600666395557\" style=\"background-color:#ffcccc;color:black\">3Dmol.js failed to load for some reason.  Please check your browser console for error messages.<br></p>\n",
              "        </div>\n",
              "<script>\n",
              "\n",
              "var loadScriptAsync = function(uri){\n",
              "  return new Promise((resolve, reject) => {\n",
              "    //this is to ignore the existence of requirejs amd\n",
              "    var savedexports, savedmodule;\n",
              "    if (typeof exports !== 'undefined') savedexports = exports;\n",
              "    else exports = {}\n",
              "    if (typeof module !== 'undefined') savedmodule = module;\n",
              "    else module = {}\n",
              "\n",
              "    var tag = document.createElement('script');\n",
              "    tag.src = uri;\n",
              "    tag.async = true;\n",
              "    tag.onload = () => {\n",
              "        exports = savedexports;\n",
              "        module = savedmodule;\n",
              "        resolve();\n",
              "    };\n",
              "  var firstScriptTag = document.getElementsByTagName('script')[0];\n",
              "  firstScriptTag.parentNode.insertBefore(tag, firstScriptTag);\n",
              "});\n",
              "};\n",
              "\n",
              "if(typeof $3Dmolpromise === 'undefined') {\n",
              "$3Dmolpromise = null;\n",
              "  $3Dmolpromise = loadScriptAsync('https://cdnjs.cloudflare.com/ajax/libs/3Dmol/2.4.2/3Dmol-min.js');\n",
              "}\n",
              "\n",
              "var viewer_17476600666395557 = null;\n",
              "var warn = document.getElementById(\"3dmolwarning_17476600666395557\");\n",
              "if(warn) {\n",
              "    warn.parentNode.removeChild(warn);\n",
              "}\n",
              "$3Dmolpromise.then(function() {\n",
              "viewer_17476600666395557 = $3Dmol.createViewer(document.getElementById(\"3dmolviewer_17476600666395557\"),{backgroundColor:\"white\"});\n",
              "viewer_17476600666395557.zoomTo();\n",
              "\tviewer_17476600666395557.addModel(\"\\n     RDKit          3D\\n\\n 13 13  0  0  0  0  0  0  0  0999 V2000\\n   23.5999    7.6495   26.6336 N   0  0  0  0  0  0  0  0  0  0  0  0\\n   22.9258    7.2698   25.3999 C   0  0  0  0  0  0  0  0  0  0  0  0\\n   23.0135    4.8889   25.4775 O   0  0  0  0  0  0  0  0  0  0  0  0\\n   22.9581    8.8806   30.1667 C   0  0  0  0  0  0  0  0  0  0  0  0\\n   21.6421    8.2337   27.7616 O   0  0  0  0  0  0  0  0  0  0  0  0\\n   20.9042    5.8102   25.7843 N   0  0  0  0  0  0  0  0  0  0  0  0\\n   22.8968    8.1053   27.7944 C   0  0  0  0  0  0  0  0  0  0  0  0\\n   23.6626    9.1877   31.3345 C   0  0  0  0  0  0  0  0  0  0  0  0\\n   25.0335    8.2908   29.0698 C   0  0  0  0  0  0  0  0  0  0  0  0\\n   23.6385    8.4299   29.0254 C   0  0  0  0  0  0  0  0  0  0  0  0\\n   25.0524    9.0463   31.3699 C   0  0  0  0  0  0  0  0  0  0  0  0\\n   25.7379    8.5979   30.2377 C   0  0  0  0  0  0  0  0  0  0  0  0\\n   22.3016    5.9243   25.5447 C   0  0  0  0  0  0  0  0  0  0  0  0\\n  1  7  1  0\\n  2  1  1  0\\n  3 13  2  0\\n  4  8  2  0\\n  5  7  2  0\\n  7 10  1  0\\n  8 11  1  0\\n  9 12  1  0\\n 10  9  2  0\\n 10  4  1  0\\n 12 11  2  0\\n 13  2  1  0\\n 13  6  1  0\\nM  END\\n\",\"sdf\");\n",
              "\tviewer_17476600666395557.setStyle({\"stick\": {}});\n",
              "\tviewer_17476600666395557.addModelsAsFrames(\"HEADER    POCKET\\nCOMPND    POCKET\\nATOM     89  N   GLY A  12      19.599  13.885  26.074  1.00 28.42         A N\\nATOM     90  CA  GLY A  12      19.923  12.538  25.636  1.00 29.35         A C\\nATOM     91  C   GLY A  12      18.867  11.830  24.812  1.00 30.20         A C\\nATOM     92  O   GLY A  12      18.422  12.339  23.780  1.00 31.70         A O\\nATOM     93  N   ARG A  13      18.418  10.680  25.303  1.00 28.22         A N\\nATOM     94  CA  ARG A  13      17.408   9.894  24.604  1.00 24.93         A C\\nATOM     95  C   ARG A  13      15.963  10.272  24.920  1.00 23.26         A C\\nATOM     96  O   ARG A  13      15.043   9.596  24.480  1.00 28.72         A O\\nATOM     97  CB  ARG A  13      17.609   8.414  24.884  1.00 25.26         A C\\nATOM     98  CG  ARG A  13      18.813   7.820  24.193  1.00 24.37         A C\\nATOM     99  CD  ARG A  13      18.960   6.368  24.559  1.00 26.76         A C\\nATOM    100  NE  ARG A  13      19.960   5.716  23.728  1.00 30.82         A N\\nATOM    101  CZ  ARG A  13      19.674   5.039  22.624  1.00 32.89         A C\\nATOM    102  NH1 ARG A  13      18.413   4.914  22.233  1.00 33.80         A N\\nATOM    103  NH2 ARG A  13      20.646   4.475  21.920  1.00 35.01         A N\\nATOM    285  N   GLN A  51      19.630   1.068  32.428  1.00 89.27         A N\\nATOM    286  CA  GLN A  51      19.777   2.328  31.697  1.00 88.94         A C\\nATOM    287  C   GLN A  51      18.444   2.961  31.315  1.00 86.18         A C\\nATOM    288  O   GLN A  51      17.680   2.403  30.514  1.00 87.44         A O\\nATOM    289  CB  GLN A  51      20.648   2.117  30.450  1.00 89.31         A C\\nATOM    290  CG  GLN A  51      22.026   2.757  30.541  1.00 90.02         A C\\nATOM    291  CD  GLN A  51      21.971   4.274  30.557  1.00 89.67         A C\\nATOM    292  OE1 GLN A  51      21.194   4.889  29.833  1.00 90.43         A O\\nATOM    293  NE2 GLN A  51      22.824   4.888  31.364  1.00 90.38         A N\\nATOM    294  N   LEU A  52      18.155   4.084  31.956  1.00 76.02         A N\\nATOM    295  CA  LEU A  52      16.931   4.851  31.739  1.00 62.78         A C\\nATOM    296  C   LEU A  52      16.836   5.283  30.269  1.00 56.19         A C\\nATOM    297  O   LEU A  52      17.762   5.027  29.484  1.00 57.85         A O\\nATOM    298  CB  LEU A  52      16.960   6.058  32.679  1.00 59.14         A C\\nATOM    299  CG  LEU A  52      17.228   5.653  34.131  1.00 56.69         A C\\nATOM    300  CD1 LEU A  52      17.352   6.881  35.005  1.00 54.34         A C\\nATOM    301  CD2 LEU A  52      16.116   4.735  34.627  1.00 59.33         A C\\nATOM    670  N   ARG A 100      21.967   7.245  15.649  1.00 33.72         A N\\nATOM    671  CA  ARG A 100      22.065   7.743  17.017  1.00 29.33         A C\\nATOM    672  C   ARG A 100      23.032   6.899  17.814  1.00 24.80         A C\\nATOM    673  O   ARG A 100      23.705   7.399  18.708  1.00 26.61         A O\\nATOM    674  CB  ARG A 100      20.698   7.732  17.692  1.00 28.34         A C\\nATOM    675  CG  ARG A 100      20.688   8.367  19.064  1.00 19.55         A C\\nATOM    676  CD  ARG A 100      19.311   8.257  19.672  1.00 18.89         A C\\nATOM    677  NE  ARG A 100      18.350   9.117  18.997  1.00 12.22         A N\\nATOM    678  CZ  ARG A 100      18.351  10.444  19.087  1.00 14.42         A C\\nATOM    679  NH1 ARG A 100      19.270  11.057  19.819  1.00 14.24         A N\\nATOM    680  NH2 ARG A 100      17.434  11.163  18.451  1.00  6.52         A N\\nATOM    681  N   CYS A 101      23.089   5.611  17.500  1.00 28.15         A N\\nATOM    682  CA  CYS A 101      24.003   4.719  18.184  1.00 29.87         A C\\nATOM    683  C   CYS A 101      25.438   5.104  17.854  1.00 32.66         A C\\nATOM    684  O   CYS A 101      26.304   5.072  18.724  1.00 41.90         A O\\nATOM    685  CB  CYS A 101      23.737   3.273  17.792  1.00 29.10         A C\\nATOM    686  SG  CYS A 101      23.142   2.287  19.158  1.00 47.56         A S\\nATOM    708  N   ILE A 104      26.226   8.403  19.779  1.00 36.87         A N\\nATOM    709  CA  ILE A 104      26.468   8.092  21.181  1.00 35.75         A C\\nATOM    710  C   ILE A 104      27.838   7.467  21.341  1.00 38.78         A C\\nATOM    711  O   ILE A 104      28.540   7.751  22.313  1.00 39.10         A O\\nATOM    712  CB  ILE A 104      25.402   7.135  21.731  1.00 30.79         A C\\nATOM    713  CG1 ILE A 104      24.094   7.894  21.921  1.00 19.79         A C\\nATOM    714  CG2 ILE A 104      25.868   6.494  23.030  1.00 25.57         A C\\nATOM    715  CD1 ILE A 104      22.948   7.001  22.268  1.00 27.68         A C\\nATOM    716  N   SER A 105      28.223   6.635  20.379  1.00 39.79         A N\\nATOM    717  CA  SER A 105      29.527   5.996  20.433  1.00 42.16         A C\\nATOM    718  C   SER A 105      30.626   7.039  20.264  1.00 42.90         A C\\nATOM    719  O   SER A 105      31.645   6.981  20.946  1.00 49.49         A O\\nATOM    720  CB  SER A 105      29.659   4.923  19.362  1.00 39.68         A C\\nATOM    721  OG  SER A 105      30.930   4.305  19.446  1.00 52.36         A O\\nATOM    730  N   ILE A 107      30.513  10.421  20.879  1.00 42.41         A N\\nATOM    731  CA  ILE A 107      30.484  11.219  22.100  1.00 40.68         A C\\nATOM    732  C   ILE A 107      31.183  10.586  23.301  1.00 42.55         A C\\nATOM    733  O   ILE A 107      32.167  11.123  23.802  1.00 46.97         A O\\nATOM    734  CB  ILE A 107      29.022  11.562  22.488  1.00 36.19         A C\\nATOM    735  CG1 ILE A 107      28.380  12.452  21.414  1.00 36.85         A C\\nATOM    736  CG2 ILE A 107      28.966  12.234  23.837  1.00 37.85         A C\\nATOM    737  CD1 ILE A 107      29.051  13.801  21.216  1.00 23.74         A C\\nATOM    738  N   TYR A 108      30.697   9.433  23.742  1.00 44.21         A N\\nATOM    739  CA  TYR A 108      31.272   8.770  24.904  1.00 46.02         A C\\nATOM    740  C   TYR A 108      32.548   7.958  24.680  1.00 50.08         A C\\nATOM    741  O   TYR A 108      33.265   7.672  25.636  1.00 55.37         A O\\nATOM    742  CB  TYR A 108      30.205   7.914  25.601  1.00 40.61         A C\\nATOM    743  CG  TYR A 108      28.997   8.716  26.044  1.00 42.63         A C\\nATOM    744  CD1 TYR A 108      29.015   9.447  27.230  1.00 42.13         A C\\nATOM    745  CD2 TYR A 108      27.845   8.771  25.259  1.00 44.02         A C\\nATOM    746  CE1 TYR A 108      27.919  10.221  27.620  1.00 42.77         A C\\nATOM    747  CE2 TYR A 108      26.746   9.538  25.638  1.00 40.64         A C\\nATOM    748  CZ  TYR A 108      26.788  10.260  26.820  1.00 42.31         A C\\nATOM    749  OH  TYR A 108      25.707  11.034  27.187  1.00 39.92         A O\\nATOM   1485  N   ASN A 204      24.542  15.956  26.129  1.00 43.88         A N\\nATOM   1486  CA  ASN A 204      25.081  14.687  26.615  1.00 43.24         A C\\nATOM   1487  C   ASN A 204      25.591  14.729  28.046  1.00 40.59         A C\\nATOM   1488  O   ASN A 204      25.892  15.794  28.583  1.00 43.79         A O\\nATOM   1489  CB  ASN A 204      26.186  14.199  25.685  1.00 43.68         A C\\nATOM   1490  CG  ASN A 204      25.652  13.735  24.356  1.00 41.79         A C\\nATOM   1491  OD1 ASN A 204      25.382  14.529  23.463  1.00 40.15         A O\\nATOM   1492  ND2 ASN A 204      25.463  12.435  24.228  1.00 42.72         A N\\nATOM     41  N   TYR A   7      14.680  10.292  34.149  1.00 26.49         A N\\nATOM     42  CA  TYR A   7      15.913  10.321  33.378  1.00 26.60         A C\\nATOM     43  C   TYR A   7      16.956  11.206  34.030  1.00 28.22         A C\\nATOM     44  O   TYR A   7      16.685  11.893  35.016  1.00 35.99         A O\\nATOM     45  CB  TYR A   7      15.626  10.860  31.977  1.00 25.16         A C\\nATOM     46  CG  TYR A   7      16.667  10.506  30.935  1.00 30.50         A C\\nATOM     47  CD1 TYR A   7      17.115   9.195  30.793  1.00 30.88         A C\\nATOM     48  CD2 TYR A   7      17.160  11.467  30.055  1.00 24.64         A C\\nATOM     49  CE1 TYR A   7      18.014   8.842  29.802  1.00 30.71         A C\\nATOM     50  CE2 TYR A   7      18.062  11.125  29.055  1.00 28.28         A C\\nATOM     51  CZ  TYR A   7      18.480   9.808  28.935  1.00 34.74         A C\\nATOM     52  OH  TYR A   7      19.339   9.433  27.927  1.00 42.56         A O\\nATOM     53  N   PHE A   8      18.158  11.178  33.470  1.00 27.57         A N\\nATOM     54  CA  PHE A   8      19.256  11.987  33.965  1.00 27.18         A C\\nATOM     55  C   PHE A   8      18.941  13.431  33.620  1.00 31.76         A C\\nATOM     56  O   PHE A   8      17.937  13.716  32.968  1.00 26.50         A O\\nATOM     57  CB  PHE A   8      20.553  11.546  33.294  1.00 31.73         A C\\nATOM     58  CG  PHE A   8      20.863  10.100  33.497  1.00 39.31         A C\\nATOM     59  CD1 PHE A   8      21.391   9.658  34.702  1.00 42.85         A C\\nATOM     60  CD2 PHE A   8      20.566   9.168  32.512  1.00 41.97         A C\\nATOM     61  CE1 PHE A   8      21.617   8.309  34.928  1.00 43.95         A C\\nATOM     62  CE2 PHE A   8      20.790   7.813  32.727  1.00 46.29         A C\\nATOM     63  CZ  PHE A   8      21.315   7.383  33.940  1.00 45.54         A C\\nATOM    302  N   PRO A  53      15.778   6.004  29.868  1.00 46.81         A N\\nATOM    303  CA  PRO A  53      14.613   6.484  30.625  1.00 42.09         A C\\nATOM    304  C   PRO A  53      13.626   5.428  31.077  1.00 39.53         A C\\nATOM    305  O   PRO A  53      13.690   4.276  30.663  1.00 48.21         A O\\nATOM    306  CB  PRO A  53      13.965   7.469  29.654  1.00 39.20         A C\\nATOM    307  CG  PRO A  53      14.252   6.876  28.338  1.00 31.54         A C\\nATOM    308  CD  PRO A  53      15.699   6.453  28.469  1.00 37.37         A C\\nATOM   1493  N   GLY A 205      25.737  13.549  28.637  1.00 40.83         A N\\nATOM   1494  CA  GLY A 205      26.208  13.445  30.005  1.00 45.86         A C\\nATOM   1495  C   GLY A 205      27.655  13.852  30.184  1.00 50.56         A C\\nATOM   1496  O   GLY A 205      27.967  14.677  31.031  1.00 56.31         A O\\nATOM    104  N   CYS A  14      15.759  11.332  25.689  1.00 20.91         A N\\nATOM    105  CA  CYS A  14      14.413  11.766  26.036  1.00 20.27         A C\\nATOM    106  C   CYS A  14      13.973  12.975  25.242  1.00 18.69         A C\\nATOM    107  O   CYS A  14      12.780  13.284  25.172  1.00 23.15         A O\\nATOM    108  CB  CYS A  14      14.319  12.078  27.529  1.00 24.17         A C\\nATOM    109  SG  CYS A  14      14.433  10.626  28.579  1.00 38.98         A S\\nATOM    393  N   GLN A  64      13.361   1.740  27.815  1.00 26.12         A N\\nATOM    394  CA  GLN A  64      13.788   1.817  26.415  1.00 24.29         A C\\nATOM    395  C   GLN A  64      13.091   2.998  25.719  1.00 24.38         A C\\nATOM    396  O   GLN A  64      11.865   2.992  25.538  1.00 20.00         A O\\nATOM    397  CB  GLN A  64      13.436   0.525  25.642  1.00 35.85         A C\\nATOM    398  CG  GLN A  64      13.776  -0.808  26.308  1.00 32.59         A C\\nATOM    399  CD  GLN A  64      15.240  -1.150  26.215  1.00 42.99         A C\\nATOM    400  OE1 GLN A  64      16.021  -0.429  25.596  1.00 50.59         A O\\nATOM    401  NE2 GLN A  64      15.620  -2.264  26.817  1.00 50.81         A N\\nATOM    402  N   SER A  65      13.878   3.971  25.259  1.00 20.22         A N\\nATOM    403  CA  SER A  65      13.333   5.149  24.587  1.00 15.68         A C\\nATOM    404  C   SER A  65      12.425   4.848  23.402  1.00 15.45         A C\\nATOM    405  O   SER A  65      11.351   5.439  23.272  1.00 19.78         A O\\nATOM    406  CB  SER A  65      14.456   6.093  24.158  1.00 14.31         A C\\nATOM    407  OG  SER A  65      15.452   5.417  23.407  1.00 24.33         A O\\nATOM    645  N   GLU A  97      17.663   5.581  14.764  1.00 17.38         A N\\nATOM    646  CA  GLU A  97      18.232   4.895  15.901  1.00 24.39         A C\\nATOM    647  C   GLU A  97      19.628   4.366  15.620  1.00 27.93         A C\\nATOM    648  O   GLU A  97      20.500   4.428  16.491  1.00 33.46         A O\\nATOM    649  CB  GLU A  97      17.311   3.759  16.331  1.00 35.69         A C\\nATOM    650  CG  GLU A  97      17.704   3.144  17.649  1.00 49.81         A C\\nATOM    651  CD  GLU A  97      17.989   4.191  18.713  1.00 56.48         A C\\nATOM    652  OE1 GLU A  97      17.233   5.200  18.804  1.00 48.82         A O\\nATOM    653  OE2 GLU A  97      18.990   4.002  19.440  1.00 55.36         A O\\nATOM     71  N   VAL A  10      19.799  15.385  31.402  1.00 38.42         A N\\nATOM     72  CA  VAL A  10      20.248  15.667  30.033  1.00 30.45         A C\\nATOM     73  C   VAL A  10      19.137  15.330  29.040  1.00 28.99         A C\\nATOM     74  O   VAL A  10      18.278  14.496  29.317  1.00 32.29         A O\\nATOM     75  CB  VAL A  10      21.489  14.816  29.628  1.00 25.93         A C\\nATOM     76  CG1 VAL A  10      22.629  15.027  30.601  1.00 24.74         A C\\nATOM     77  CG2 VAL A  10      21.132  13.347  29.545  1.00 21.12         A C\\nATOM   1497  N   ASN A 206      28.536  13.312  29.350  1.00 52.37         A N\\nATOM   1498  CA  ASN A 206      29.964  13.615  29.432  1.00 48.56         A C\\nATOM   1499  C   ASN A 206      30.291  15.072  29.091  1.00 46.18         A C\\nATOM   1500  O   ASN A 206      31.459  15.439  28.976  1.00 46.57         A O\\nATOM   1501  CB  ASN A 206      30.758  12.690  28.506  1.00 50.71         A C\\nATOM   1502  CG  ASN A 206      30.561  13.028  27.047  1.00 53.56         A C\\nATOM   1503  OD1 ASN A 206      29.646  13.772  26.691  1.00 58.49         A O\\nATOM   1504  ND2 ASN A 206      31.404  12.472  26.190  1.00 61.13         A N\\nATOM     64  N   PRO A   9      19.756  14.371  34.112  1.00 41.45         A N\\nATOM     65  CA  PRO A   9      19.481  15.775  33.793  1.00 41.45         A C\\nATOM     66  C   PRO A   9      20.021  16.211  32.426  1.00 39.43         A C\\nATOM     67  O   PRO A   9      20.642  17.269  32.314  1.00 36.63         A O\\nATOM     68  CB  PRO A   9      20.170  16.515  34.941  1.00 44.52         A C\\nATOM     69  CG  PRO A   9      21.349  15.629  35.243  1.00 40.75         A C\\nATOM     70  CD  PRO A   9      20.740  14.256  35.210  1.00 38.70         A C\\nATOM   1477  N   ILE A 203      23.223  18.454  26.159  1.00 42.02         A N\\nATOM   1478  CA  ILE A 203      22.848  17.431  25.194  1.00 39.57         A C\\nATOM   1479  C   ILE A 203      23.292  16.058  25.684  1.00 40.30         A C\\nATOM   1480  O   ILE A 203      22.492  15.123  25.726  1.00 42.45         A O\\nATOM   1481  CB  ILE A 203      23.432  17.729  23.787  1.00 38.26         A C\\nATOM   1482  CG1 ILE A 203      22.699  18.910  23.150  1.00 33.92         A C\\nATOM   1483  CG2 ILE A 203      23.313  16.512  22.886  1.00 39.24         A C\\nATOM   1484  CD1 ILE A 203      23.198  19.270  21.764  1.00 35.45         A C\\nATOM     78  N   ARG A  11      19.169  15.968  27.878  1.00 31.05         A N\\nATOM     79  CA  ARG A  11      18.181  15.698  26.839  1.00 29.39         A C\\nATOM     80  C   ARG A  11      18.353  14.252  26.376  1.00 30.86         A C\\nATOM     81  O   ARG A  11      17.372  13.516  26.245  1.00 30.42         A O\\nATOM     82  CB  ARG A  11      18.413  16.607  25.645  1.00 26.80         A C\\nATOM     83  CG  ARG A  11      18.468  18.060  25.963  1.00 28.87         A C\\nATOM     84  CD  ARG A  11      18.565  18.832  24.667  1.00 37.79         A C\\nATOM     85  NE  ARG A  11      18.797  20.247  24.896  1.00 42.04         A N\\nATOM     86  CZ  ARG A  11      19.480  21.026  24.069  1.00 39.36         A C\\nATOM     87  NH1 ARG A  11      19.996  20.524  22.958  1.00 38.62         A N\\nATOM     88  NH2 ARG A  11      19.672  22.298  24.376  1.00 40.45         A N\\nATOM    252  N   VAL A  33      17.367  11.900  37.777  1.00 45.22         A N\\nATOM    253  CA  VAL A  33      18.156  10.839  38.359  1.00 52.26         A C\\nATOM    254  C   VAL A  33      19.596  11.304  38.312  1.00 61.38         A C\\nATOM    255  O   VAL A  33      20.305  11.069  37.337  1.00 65.55         A O\\nATOM    256  CB  VAL A  33      18.026   9.535  37.572  1.00 50.76         A C\\nATOM    257  CG1 VAL A  33      18.930   8.463  38.164  1.00 50.01         A C\\nATOM    258  CG2 VAL A  33      16.597   9.078  37.582  1.00 53.81         A C\\nATOM   1470  N   PRO A 202      22.046  19.917  29.218  1.00 31.94         A N\\nATOM   1471  CA  PRO A 202      23.139  19.592  28.301  1.00 33.67         A C\\nATOM   1472  C   PRO A 202      22.675  18.487  27.366  1.00 38.51         A C\\nATOM   1473  O   PRO A 202      21.797  17.699  27.720  1.00 44.65         A O\\nATOM   1474  CB  PRO A 202      24.231  19.096  29.243  1.00 34.12         A C\\nATOM   1475  CG  PRO A 202      23.459  18.464  30.340  1.00 35.10         A C\\nATOM   1476  CD  PRO A 202      22.346  19.461  30.582  1.00 37.18         A C\\nATOM    259  N   THR A  34      20.002  12.043  39.333  1.00 74.51         A N\\nATOM    260  CA  THR A  34      21.367  12.534  39.413  1.00 86.19         A C\\nATOM    261  C   THR A  34      22.266  11.313  39.593  1.00 93.34         A C\\nATOM    262  O   THR A  34      21.826  10.306  40.158  1.00 97.40         A O\\nATOM    263  CB  THR A  34      21.539  13.478  40.619  1.00 88.50         A C\\nATOM    264  OG1 THR A  34      21.172  12.789  41.822  1.00 88.87         A O\\nATOM    265  CG2 THR A  34      20.671  14.726  40.453  1.00 87.92         A C\\nATOM    266  N   VAL A  35      23.522  11.409  39.160  1.00 99.89         A N\\nATOM    267  CA  VAL A  35      24.470  10.296  39.270  1.00104.10         A C\\nATOM    268  C   VAL A  35      24.467   9.654  40.669  1.00106.99         A C\\nATOM    269  O   VAL A  35      24.404   8.428  40.791  1.00111.09         A O\\nATOM    270  CB  VAL A  35      25.909  10.731  38.835  1.00104.17         A C\\nATOM    271  CG1 VAL A  35      26.453  11.823  39.751  1.00103.14         A C\\nATOM    272  CG2 VAL A  35      26.844   9.528  38.792  1.00102.99         A C\\nATOM   1505  N   GLY A 207      29.264  15.882  28.858  1.00 45.49         A N\\nATOM   1506  CA  GLY A 207      29.484  17.282  28.549  1.00 49.78         A C\\nATOM   1507  C   GLY A 207      30.034  17.591  27.168  1.00 55.96         A C\\nATOM   1508  O   GLY A 207      30.449  18.718  26.918  1.00 57.56         A O\\nATOM    750  N   THR A 109      32.856   7.614  23.433  1.00 55.80         A N\\nATOM    751  CA  THR A 109      34.049   6.823  23.142  1.00 57.20         A C\\nATOM    752  C   THR A 109      35.153   7.592  22.401  1.00 61.89         A C\\nATOM    753  O   THR A 109      35.952   8.292  23.023  1.00 64.45         A O\\nATOM    754  CB  THR A 109      33.672   5.522  22.373  1.00 59.96         A C\\nATOM    755  OG1 THR A 109      32.736   4.763  23.149  1.00 60.98         A O\\nATOM    756  CG2 THR A 109      34.896   4.662  22.100  1.00 63.92         A C\\nATOM   2181  N   ASP B  98      19.132  -5.654  22.243  1.00 23.63         A N\\nATOM   2182  CA  ASP B  98      20.288  -5.098  22.938  1.00 24.05         A C\\nATOM   2183  C   ASP B  98      21.341  -6.170  23.160  1.00 26.82         A C\\nATOM   2184  O   ASP B  98      22.525  -5.952  22.903  1.00 33.22         A O\\nATOM   2185  CB  ASP B  98      19.872  -4.522  24.292  1.00 32.22         A C\\nATOM   2186  CG  ASP B  98      19.831  -3.015  24.298  1.00 41.91         A C\\nATOM   2187  OD1 ASP B  98      19.125  -2.427  23.453  1.00 50.38         A O\\nATOM   2188  OD2 ASP B  98      20.511  -2.419  25.153  1.00 49.06         A O\\nATOM    696  N   TYR A 103      26.463   8.142  16.956  1.00 36.11         A N\\nATOM    697  CA  TYR A 103      26.663   9.425  17.623  1.00 37.62         A C\\nATOM    698  C   TYR A 103      27.043   9.187  19.080  1.00 37.37         A C\\nATOM    699  O   TYR A 103      28.052   9.712  19.556  1.00 35.64         A O\\nATOM    700  CB  TYR A 103      25.380  10.269  17.549  1.00 42.12         A C\\nATOM    701  CG  TYR A 103      25.418  11.585  18.313  1.00 42.51         A C\\nATOM    702  CD1 TYR A 103      25.998  12.723  17.754  1.00 45.50         A C\\nATOM    703  CD2 TYR A 103      24.841  11.699  19.580  1.00 35.78         A C\\nATOM    704  CE1 TYR A 103      25.999  13.938  18.436  1.00 46.05         A C\\nATOM    705  CE2 TYR A 103      24.838  12.913  20.266  1.00 36.91         A C\\nATOM    706  CZ  TYR A 103      25.415  14.025  19.690  1.00 40.13         A C\\nATOM    707  OH  TYR A 103      25.392  15.222  20.358  1.00 44.22         A O\\nEND\\n\");\n",
              "\tviewer_17476600666395557.addSurface(1,{\"opacity\": 0.9, \"color\": \"white\"});\n",
              "\tviewer_17476600666395557.zoomTo();\n",
              "viewer_17476600666395557.render();\n",
              "});\n",
              "</script>"
            ]
          },
          "metadata": {},
          "output_type": "display_data"
        }
      ],
      "source": [
        "#@title Visualization\n",
        "viewA = py3Dmol.view(width=400, height=300)\n",
        "id = 0  # select number of molecules (0-9)\n",
        "mol_block = Chem.MolToMolBlock(out_sdf[id])\n",
        "viewA.addModel(mol_block, 'sdf')\n",
        "viewA.setStyle({'stick': {}})\n",
        "viewA.addModelsAsFrames(system)\n",
        "viewA.addSurface(py3Dmol.VDW,{'opacity':0.9,'color':'white'})\n",
        "\n",
        "viewA.zoomTo()\n",
        "viewA.show()"
      ]
    },
    {
      "cell_type": "code",
      "execution_count": null,
      "metadata": {
        "id": "QBxm8AALqCLq"
      },
      "outputs": [],
      "source": []
    }
  ],
  "metadata": {
    "accelerator": "GPU",
    "colab": {
      "gpuType": "T4",
      "provenance": []
    },
    "kernelspec": {
      "display_name": "Python 3",
      "name": "python3"
    },
    "language_info": {
      "codemirror_mode": {
        "name": "ipython",
        "version": 3
      },
      "file_extension": ".py",
      "mimetype": "text/x-python",
      "name": "python",
      "nbconvert_exporter": "python",
      "pygments_lexer": "ipython3",
      "version": "3.10.4"
    }
  },
  "nbformat": 4,
  "nbformat_minor": 0
}
